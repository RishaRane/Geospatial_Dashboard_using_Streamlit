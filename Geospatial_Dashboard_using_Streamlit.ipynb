{
  "nbformat": 4,
  "nbformat_minor": 0,
  "metadata": {
    "colab": {
      "provenance": []
    },
    "kernelspec": {
      "name": "python3",
      "display_name": "Python 3"
    },
    "language_info": {
      "name": "python"
    }
  },
  "cells": [
    {
      "cell_type": "markdown",
      "source": [
        "# <pre> Interactive Geospatial Dashboard using Streamlit"
      ],
      "metadata": {
        "id": "m4ubc6yW7PC6"
      }
    },
    {
      "cell_type": "code",
      "execution_count": null,
      "metadata": {
        "id": "hmvJUm9r63ic"
      },
      "outputs": [],
      "source": [
        "!pip install streamlit\n",
        "!pip install pyngrok"
      ]
    },
    {
      "cell_type": "code",
      "source": [
        "from pyngrok import ngrok\n",
        "\n",
        "!ngrok authtoken your_autorization_token"
      ],
      "metadata": {
        "colab": {
          "base_uri": "https://localhost:8080/"
        },
        "id": "fEzdtc2__34O",
        "outputId": "588fae05-386e-4a31-c8c2-6ac41726cce3"
      },
      "execution_count": 3,
      "outputs": [
        {
          "output_type": "stream",
          "name": "stdout",
          "text": [
            "Authtoken saved to configuration file: /root/.config/ngrok/ngrok.yml\n"
          ]
        }
      ]
    },
    {
      "cell_type": "code",
      "source": [
        "url = ngrok.connect(8501, 'http')\n",
        "print(f'Access your geospatial dashboard at {url}')"
      ],
      "metadata": {
        "colab": {
          "base_uri": "https://localhost:8080/"
        },
        "id": "0zOiH9kiAoZL",
        "outputId": "d7abd984-8974-4670-bb68-36c1c6bb4e63"
      },
      "execution_count": 4,
      "outputs": [
        {
          "output_type": "stream",
          "name": "stdout",
          "text": [
            "Access your geospatial dashboard at NgrokTunnel: \"https://51c1-104-199-208-211.ngrok-free.app\" -> \"http://localhost:8501\"\n"
          ]
        }
      ]
    },
    {
      "cell_type": "markdown",
      "source": [
        "WRITING STREAMLIT CODE"
      ],
      "metadata": {
        "id": "hS598jR7BcDG"
      }
    },
    {
      "cell_type": "markdown",
      "source": [
        "## 1. Page Configuration"
      ],
      "metadata": {
        "id": "FhZkb5VfBge9"
      }
    },
    {
      "cell_type": "code",
      "source": [
        "!streamlit run app.py &>/content/logs.txt &"
      ],
      "metadata": {
        "id": "oVzi3QpZBapY"
      },
      "execution_count": 6,
      "outputs": []
    },
    {
      "cell_type": "code",
      "source": [
        "%%writefile app.py\n",
        "\n",
        "import pandas as pd\n",
        "import streamlit as st\n",
        "import plotly.express as px\n",
        "import plotly.graph_objects as go\n",
        "\n",
        "import warnings\n",
        "warnings.filterwarnings('ignore')\n",
        "\n",
        "st.set_page_config(\n",
        "    page_title = 'Geospatial Dashboard',\n",
        "    page_icon = '\t:globe_with_meridians:',\n",
        "    layout = 'wide'\n",
        ")"
      ],
      "metadata": {
        "colab": {
          "base_uri": "https://localhost:8080/"
        },
        "id": "2MVZYBQnBIKb",
        "outputId": "1fd8262d-a1d2-403e-ade5-3f4ac39e1c68"
      },
      "execution_count": 80,
      "outputs": [
        {
          "output_type": "stream",
          "name": "stdout",
          "text": [
            "Overwriting app.py\n"
          ]
        }
      ]
    },
    {
      "cell_type": "code",
      "source": [
        "%%writefile -a app.py\n",
        "df = pd.read_csv('/content/world_population.csv')"
      ],
      "metadata": {
        "colab": {
          "base_uri": "https://localhost:8080/"
        },
        "id": "PuAhZYlHBaX-",
        "outputId": "cbff4635-e95b-4c7b-9bba-ef8d842332eb"
      },
      "execution_count": 81,
      "outputs": [
        {
          "output_type": "stream",
          "name": "stdout",
          "text": [
            "Appending to app.py\n"
          ]
        }
      ]
    },
    {
      "cell_type": "markdown",
      "source": [
        "## 2. Creating the Sidebars"
      ],
      "metadata": {
        "id": "QreKwEfUEboM"
      }
    },
    {
      "cell_type": "code",
      "source": [
        "%%writefile -a app.py\n",
        "\n",
        "with st.sidebar:\n",
        "  st.title(':globe_with_meridians: Geospatial Dashboard')\n",
        "\n",
        "  # A. CONTINENT\n",
        "  continent_lst = list(df['Continent'].unique())\n",
        "  select_continent = st.multiselect('Select a Continent', continent_lst)\n",
        "  if select_continent:\n",
        "    df = df[df['Continent'].isin(select_continent)]\n",
        "  else:\n",
        "    df = df.copy()\n",
        "\n",
        "  # B. Country\n",
        "  country_lst = list(df['Country/Territory'].unique())\n",
        "  select_country = st.multiselect('Select a Country', country_lst)\n",
        "  if select_country:\n",
        "    df = df[df['Country/Territory'].isin(select_country)]\n",
        "  else:\n",
        "    df = df.copy()"
      ],
      "metadata": {
        "colab": {
          "base_uri": "https://localhost:8080/"
        },
        "id": "GaSk8RS4ERGu",
        "outputId": "5da2d8d7-48b5-4d13-e623-4df854acd94d"
      },
      "execution_count": 82,
      "outputs": [
        {
          "output_type": "stream",
          "name": "stdout",
          "text": [
            "Appending to app.py\n"
          ]
        }
      ]
    },
    {
      "cell_type": "markdown",
      "source": [
        "## 3. Choropleth map for Population"
      ],
      "metadata": {
        "id": "SE5bE3_5HOyb"
      }
    },
    {
      "cell_type": "code",
      "source": [
        "%%writefile -a app.py\n",
        "st.subheader('Choropleth Map : Population')\n",
        "fig1 = px.choropleth(df.dropna(),\n",
        "                     locations = 'Country/Territory',\n",
        "                     locationmode = 'country names',\n",
        "                     color = 'World Population Percentage',\n",
        "                     hover_name = 'Country/Territory',\n",
        "                     hover_data = ['World Population Percentage', 'Area (km²)'],\n",
        "                     color_continuous_scale = 'Inferno')\n",
        "\n",
        "fig1.update_geos(\n",
        "    showcoastlines = True,\n",
        "    coastlinecolor = 'white',\n",
        "    showland = True,\n",
        "    landcolor = 'gray',\n",
        "    showocean = True,\n",
        "    oceancolor = 'black',\n",
        "    showlakes = True,\n",
        "    lakecolor = 'black',\n",
        "    bgcolor = 'black'\n",
        ")\n",
        "\n",
        "st.plotly_chart(fig1, use_container_width = True)"
      ],
      "metadata": {
        "colab": {
          "base_uri": "https://localhost:8080/"
        },
        "id": "h2V072clEwys",
        "outputId": "0a5c0be6-682a-4877-9a34-9430cc440084"
      },
      "execution_count": 83,
      "outputs": [
        {
          "output_type": "stream",
          "name": "stdout",
          "text": [
            "Appending to app.py\n"
          ]
        }
      ]
    },
    {
      "cell_type": "markdown",
      "source": [
        "## 4. Metrics Card"
      ],
      "metadata": {
        "id": "S2dG5VBSLg_p"
      }
    },
    {
      "cell_type": "code",
      "source": [
        "%%writefile -a app.py\n",
        "block1, block2 = st.columns((2))"
      ],
      "metadata": {
        "colab": {
          "base_uri": "https://localhost:8080/"
        },
        "id": "Y52L--00JY1d",
        "outputId": "31dcc257-e416-405f-f1fe-687d0ae91d72"
      },
      "execution_count": 84,
      "outputs": [
        {
          "output_type": "stream",
          "name": "stdout",
          "text": [
            "Appending to app.py\n"
          ]
        }
      ]
    },
    {
      "cell_type": "code",
      "source": [
        "%%writefile -a app.py\n",
        "#css for metric card\n",
        "st.markdown(\"\"\"\n",
        "  <style>\n",
        "  .card{\n",
        "    border-radius: 5px;\n",
        "    padding: 5px;\n",
        "    margin:100px 0px 0px -50px;\n",
        "    color: white;\n",
        "    font-size:30px;\n",
        "    text-align:center;\n",
        "  }\n",
        "  .value{\n",
        "    font-size:48px;\n",
        "    font-weight:bold;\n",
        "  }\n",
        "  .change-positive{\n",
        "    color:yellow;\n",
        "    font-size:24px;\n",
        "    font-weight:bold;\n",
        "  }\n",
        "  .change-negative{\n",
        "    color:red;\n",
        "    font-size:24px;\n",
        "    font-weight:bold;\n",
        "  }\n",
        "  </style>\n",
        "\"\"\", unsafe_allow_html = True)"
      ],
      "metadata": {
        "colab": {
          "base_uri": "https://localhost:8080/"
        },
        "id": "pbqeIjZ6Qi5-",
        "outputId": "f185f6eb-87f5-43bc-d777-8bd72cee5f5a"
      },
      "execution_count": 85,
      "outputs": [
        {
          "output_type": "stream",
          "name": "stdout",
          "text": [
            "Appending to app.py\n"
          ]
        }
      ]
    },
    {
      "cell_type": "code",
      "source": [
        "%%writefile -a app.py\n",
        "\n",
        "with block1:\n",
        "  st.subheader('Growth Rate :chart_with_upwards_trend:')\n",
        "  if not select_country:\n",
        "    country_data = df.iloc[0]\n",
        "  else:\n",
        "    country_data = df[df['Country/Territory'] == select_country[0]].iloc[0]\n",
        "\n",
        "  #function to compute growth percentage\n",
        "  def calculate_growth(previous, current):\n",
        "    return ((current - previous) / previous) * 100\n",
        "\n",
        "  #calculate growth\n",
        "  country_growth = calculate_growth(country_data['2000 Population'], country_data['2022 Population'])\n",
        "\n",
        "  #define card creation function\n",
        "  def create_metric_card(country_name, current_population, growth):\n",
        "    if growth > 0:\n",
        "      growth_class = 'change-positive'\n",
        "      growth_symbol = '↑'\n",
        "    else:\n",
        "      growth_class = 'change-negative'\n",
        "      growth_symbol = '↓'\n",
        "    return f\"\"\"\n",
        "    <div class = 'card'>\n",
        "    <div>{country_name}</div>\n",
        "    <div class='value'>{current_population:.1f} M</div>\n",
        "    <div class = \"{growth_class}\">{growth_symbol} {abs(growth):.2f}%</div?]>\n",
        "    \"\"\"\n",
        "  st.markdown(create_metric_card(country_data['Country/Territory'], country_data['2022 Population'], country_growth),\n",
        "            unsafe_allow_html = True)"
      ],
      "metadata": {
        "colab": {
          "base_uri": "https://localhost:8080/"
        },
        "id": "RuOaby0SL6Bd",
        "outputId": "749fae2e-de2c-481b-ff26-86c62568e4ca"
      },
      "execution_count": 86,
      "outputs": [
        {
          "output_type": "stream",
          "name": "stdout",
          "text": [
            "Appending to app.py\n"
          ]
        }
      ]
    },
    {
      "cell_type": "markdown",
      "source": [
        "## 5. Donut Chart"
      ],
      "metadata": {
        "id": "0tJRzs_pTYUb"
      }
    },
    {
      "cell_type": "code",
      "source": [
        "%%writefile -a app.py\n",
        "with block2:\n",
        "  st.subheader('Donut Chart : Population by Continent')\n",
        "  df_continent_pop = df.groupby('Continent')['2022 Population'].sum().reset_index()\n",
        "  fig2 = px.pie(df_continent_pop,\n",
        "                names = 'Continent',\n",
        "                values = '2022 Population',\n",
        "                hole = 0.4,\n",
        "                title = 'Population distribution by continent (2022)')\n",
        "  st.plotly_chart(fig2, use_container_width = True)"
      ],
      "metadata": {
        "colab": {
          "base_uri": "https://localhost:8080/"
        },
        "id": "ws7gcS3SP_0Z",
        "outputId": "42f8be74-b9fa-4705-a1f5-0b4de9c53f6c"
      },
      "execution_count": 87,
      "outputs": [
        {
          "output_type": "stream",
          "name": "stdout",
          "text": [
            "Appending to app.py\n"
          ]
        }
      ]
    },
    {
      "cell_type": "markdown",
      "source": [
        "## 6. Heatmap"
      ],
      "metadata": {
        "id": "TBF8VsYZUh-s"
      }
    },
    {
      "cell_type": "code",
      "source": [
        "%%writefile -a app.py\n",
        "st.subheader('Heatmap : Population Growth Over Years')\n",
        "population_cols = ['1970 Population', '1980 Population', '1990 Population', '2000 Population', '2010 Population']\n",
        "df_heatmap = df[population_cols]\n",
        "\n",
        "fig3 = go.Figure(data = go.Heatmap(\n",
        "                                    z = df_heatmap.T,\n",
        "                                    x = df['Country/Territory'],\n",
        "                                    y = population_cols,\n",
        "                                    colorscale = 'Plasma'\n",
        "))\n",
        "st.plotly_chart(fig3, use_container_width = True)"
      ],
      "metadata": {
        "colab": {
          "base_uri": "https://localhost:8080/"
        },
        "id": "I_CnyN2LUSEA",
        "outputId": "1233eb12-731e-4d69-c21b-45c5c7b100d8"
      },
      "execution_count": 88,
      "outputs": [
        {
          "output_type": "stream",
          "name": "stdout",
          "text": [
            "Appending to app.py\n"
          ]
        }
      ]
    },
    {
      "cell_type": "code",
      "source": [],
      "metadata": {
        "id": "HfAaNo-SVzUz"
      },
      "execution_count": 70,
      "outputs": []
    }
  ]
}